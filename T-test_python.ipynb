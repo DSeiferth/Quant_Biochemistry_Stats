{
 "cells": [
  {
   "cell_type": "markdown",
   "id": "cd646e55",
   "metadata": {},
   "source": [
    "# T-test_python\n",
    "documentation\n",
    "https://docs.scipy.org/doc/scipy/reference/stats.html"
   ]
  },
  {
   "cell_type": "code",
   "execution_count": 1,
   "id": "c5fc5478",
   "metadata": {},
   "outputs": [],
   "source": [
    "### import libraries ###\n",
    "import numpy as np\n",
    "import pandas as pd\n",
    "import scipy.stats as stats"
   ]
  },
  {
   "cell_type": "markdown",
   "id": "4ba963d3",
   "metadata": {},
   "source": [
    "# data (Problem sheet 2.3)"
   ]
  },
  {
   "cell_type": "code",
   "execution_count": 5,
   "id": "17663248",
   "metadata": {},
   "outputs": [
    {
     "name": "stdout",
     "output_type": "stream",
     "text": [
      "mean 51.142857142857146\n",
      "std 8.184106049944287\n"
     ]
    }
   ],
   "source": [
    "data = np.array([54,38,55,51,44,66,50])\n",
    "mean = np.mean(data)\n",
    "std = np.std(data)\n",
    "print('mean', mean)\n",
    "print('std', std)"
   ]
  },
  {
   "cell_type": "markdown",
   "id": "389a2d33",
   "metadata": {},
   "source": [
    "# one sample t-test\n",
    "https://docs.scipy.org/doc/scipy/reference/generated/scipy.stats.ttest_1samp.html#scipy.stats.ttest_1samp\n",
    "\n",
    "$H_0$: there is NO difference, true mean $=\\mu$\n",
    "\n",
    "$H_1$: there is a difference, true mean $\\neq\\mu$"
   ]
  },
  {
   "cell_type": "code",
   "execution_count": 4,
   "id": "fca0d3fc",
   "metadata": {},
   "outputs": [
    {
     "name": "stdout",
     "output_type": "stream",
     "text": [
      "statistic -2.6509285738158783\n",
      "pvalue 0.037981457824963816\n"
     ]
    }
   ],
   "source": [
    "popmean = 60 # population mean for null hypothesis\n",
    "statistic, pvalue = stats.ttest_1samp(data, popmean)\n",
    "print('statistic', statistic)\n",
    "print('pvalue', pvalue)"
   ]
  },
  {
   "cell_type": "markdown",
   "id": "bf260599",
   "metadata": {},
   "source": [
    "We reject $H_0$ and conclude that the true ean is not equal to 60\n",
    "\n",
    "### 95% confidence interval\n",
    "$\\text{mean}\\pm\\dfrac{Z\\sigma}{\\sqrt{n}}$\n",
    "Confidence limits refer to sample mean!"
   ]
  },
  {
   "cell_type": "code",
   "execution_count": 6,
   "id": "4ab846dc",
   "metadata": {},
   "outputs": [
    {
     "name": "stdout",
     "output_type": "stream",
     "text": [
      "95% interval 59.342978026556885 42.94273625915741\n"
     ]
    }
   ],
   "source": [
    "\n",
    "print('95% interval', mean-statistic*std/np.sqrt(len(data)),\n",
    "      mean+statistic*std/np.sqrt(len(data)),\n",
    "     )"
   ]
  },
  {
   "cell_type": "code",
   "execution_count": null,
   "id": "ebbf4832",
   "metadata": {},
   "outputs": [],
   "source": []
  }
 ],
 "metadata": {
  "kernelspec": {
   "display_name": "Python 3 (ipykernel)",
   "language": "python",
   "name": "python3"
  },
  "language_info": {
   "codemirror_mode": {
    "name": "ipython",
    "version": 3
   },
   "file_extension": ".py",
   "mimetype": "text/x-python",
   "name": "python",
   "nbconvert_exporter": "python",
   "pygments_lexer": "ipython3",
   "version": "3.11.0"
  }
 },
 "nbformat": 4,
 "nbformat_minor": 5
}
