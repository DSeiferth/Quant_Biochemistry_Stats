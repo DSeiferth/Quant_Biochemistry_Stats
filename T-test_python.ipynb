{
 "cells": [
  {
   "cell_type": "markdown",
   "id": "cd646e55",
   "metadata": {},
   "source": [
    "# T-test_python\n",
    "documentation\n",
    "https://docs.scipy.org/doc/scipy/reference/stats.html"
   ]
  },
  {
   "cell_type": "code",
   "execution_count": 2,
   "id": "c5fc5478",
   "metadata": {},
   "outputs": [],
   "source": [
    "### import libraries ###\n",
    "import numpy as np\n",
    "import pandas as pd\n",
    "import scipy.stats as stats"
   ]
  },
  {
   "cell_type": "markdown",
   "id": "4ba963d3",
   "metadata": {},
   "source": [
    "# data (Problem sheet 2.3)"
   ]
  },
  {
   "cell_type": "code",
   "execution_count": 47,
   "id": "17663248",
   "metadata": {},
   "outputs": [
    {
     "name": "stdout",
     "output_type": "stream",
     "text": [
      "mean 51.142857142857146\n",
      "std 8.839844859659989\n"
     ]
    }
   ],
   "source": [
    "data = np.array([54,38,55,51,44,66,50])\n",
    "mean = np.mean(data)\n",
    "std = np.std(data, ddof=1)\n",
    "print('mean', mean)\n",
    "print('std', std)"
   ]
  },
  {
   "cell_type": "markdown",
   "id": "389a2d33",
   "metadata": {},
   "source": [
    "# one sample t-test\n",
    "https://docs.scipy.org/doc/scipy/reference/generated/scipy.stats.ttest_1samp.html#scipy.stats.ttest_1samp\n",
    "\n",
    "$H_0$: there is NO difference, true mean $=\\mu$\n",
    "\n",
    "$H_1$: there is a difference, true mean $\\neq\\mu$"
   ]
  },
  {
   "cell_type": "code",
   "execution_count": 48,
   "id": "fca0d3fc",
   "metadata": {},
   "outputs": [
    {
     "name": "stdout",
     "output_type": "stream",
     "text": [
      "statistic -2.6509285738158783\n",
      "pvalue 0.037981457824963816\n"
     ]
    }
   ],
   "source": [
    "popmean = 60 # population mean for null hypothesis\n",
    "statistic, pvalue = stats.ttest_1samp(data, popmean)\n",
    "print('statistic', statistic)\n",
    "print('pvalue', pvalue)"
   ]
  },
  {
   "cell_type": "markdown",
   "id": "bf260599",
   "metadata": {},
   "source": [
    "We reject $H_0$ and conclude that the true ean is not equal to 60\n",
    "\n",
    "### 95% confidence interval\n",
    "$\\text{mean}\\pm\\dfrac{t\\sigma}{\\sqrt{n}}$\n",
    "Confidence limits refer to sample mean!"
   ]
  },
  {
   "cell_type": "code",
   "execution_count": 50,
   "id": "4ab846dc",
   "metadata": {},
   "outputs": [
    {
     "name": "stdout",
     "output_type": "stream",
     "text": [
      "t_val -2.446911848791681 df 6\n",
      "95% interval 59.31835006924209 42.9673642164722\n"
     ]
    }
   ],
   "source": [
    "t_val = stats.t.ppf(0.025, len(data)-1)\n",
    "#t_val = statistic\n",
    "print('t_val', t_val, 'df', len(data)-1)\n",
    "\n",
    "print('95% interval', mean-t_val*std/np.sqrt(len(data)),\n",
    "      mean+t_val*std/np.sqrt(len(data)),\n",
    "     )"
   ]
  },
  {
   "cell_type": "code",
   "execution_count": 51,
   "id": "0aba0c1f",
   "metadata": {},
   "outputs": [
    {
     "name": "stdout",
     "output_type": "stream",
     "text": [
      "t_val -2.4469118487916806 df 6\n"
     ]
    }
   ],
   "source": [
    "level = 0.95\n",
    "# Percent point function (inverse of cdf — percentiles).\n",
    "t_val = stats.t.ppf((1-level)/2, len(data)-1, loc=0, scale=1)\n",
    "print('t_val', t_val, 'df', len(data)-1)"
   ]
  },
  {
   "cell_type": "markdown",
   "id": "80154950",
   "metadata": {},
   "source": [
    "# Serum Calcium levels"
   ]
  },
  {
   "cell_type": "code",
   "execution_count": 52,
   "id": "3b79d023",
   "metadata": {},
   "outputs": [
    {
     "name": "stdout",
     "output_type": "stream",
     "text": [
      "prior data: mean 2.1 std 0.1981161275615895 median 2.08\n",
      "post data: mean 2.2544444444444443 std 0.13794121131039047 median 2.26\n"
     ]
    }
   ],
   "source": [
    "prior_data = np.array([2.09, 1.8, 1.97, 2.35, 2.08, 1.9, 2.06, 2.3, 2.35])\n",
    "post_data = np.array([2.15,2.13,2.27,2.52,2.05,2.24,2.26,2.33,2.34])\n",
    "print('prior data: mean', np.mean(prior_data), \n",
    "      'std', np.std(prior_data, ddof=1),\n",
    "      'median',np.median(prior_data),\n",
    "     )\n",
    "print('post data: mean', np.mean(post_data), \n",
    "      'std', np.std(post_data, ddof=1),\n",
    "      'median',np.median(post_data),\n",
    "     )"
   ]
  },
  {
   "cell_type": "markdown",
   "id": "a7fc2106",
   "metadata": {},
   "source": [
    "### one sample t-test\n",
    "$\\mu = 0$"
   ]
  },
  {
   "cell_type": "code",
   "execution_count": 53,
   "id": "8eafad09",
   "metadata": {},
   "outputs": [
    {
     "name": "stdout",
     "output_type": "stream",
     "text": [
      "statistic 31.799531302879334\n",
      "pvalue 1.0411926907581334e-09\n",
      "t_val -2.306004135033371 df 8\n",
      "95% interval 2.2522855364579413 1.9477144635420587\n"
     ]
    }
   ],
   "source": [
    "popmean = 0 # population mean for null hypothesis\n",
    "statistic, pvalue = stats.ttest_1samp(prior_data, popmean)\n",
    "print('statistic', statistic)\n",
    "print('pvalue', pvalue)\n",
    "mean = np.mean(prior_data)\n",
    "std = np.std(prior_data, ddof=1)\n",
    "t_val = stats.t.ppf(0.025, len(prior_data)-1)\n",
    "print('t_val', t_val, 'df', len(prior_data)-1)\n",
    "print('95% interval', mean-t_val*std/np.sqrt(len(prior_data)),\n",
    "      mean+t_val*std/np.sqrt(len(prior_data)),\n",
    "     )"
   ]
  },
  {
   "cell_type": "markdown",
   "id": "9e8af11a",
   "metadata": {},
   "source": [
    "$\\mu = 2.3$"
   ]
  },
  {
   "cell_type": "code",
   "execution_count": 55,
   "id": "d8fa15ba",
   "metadata": {},
   "outputs": [
    {
     "name": "stdout",
     "output_type": "stream",
     "text": [
      "statistic -4.542790186125616\n",
      "pvalue 0.0018922336027539291\n"
     ]
    }
   ],
   "source": [
    "popmean = 2.4 # population mean for null hypothesis\n",
    "statistic, pvalue = stats.ttest_1samp(prior_data, popmean)\n",
    "print('statistic', statistic)\n",
    "print('pvalue', pvalue)"
   ]
  },
  {
   "cell_type": "markdown",
   "id": "1b3278f0",
   "metadata": {},
   "source": [
    "### post data"
   ]
  },
  {
   "cell_type": "code",
   "execution_count": 56,
   "id": "24ed33ed",
   "metadata": {},
   "outputs": [
    {
     "name": "stdout",
     "output_type": "stream",
     "text": [
      "statistic 49.030549094677134\n",
      "pvalue 3.313519931995994e-11\n",
      "t_val -2.306004135033371 df 8\n",
      "95% interval 2.3604754456688686 2.14841344322002\n"
     ]
    }
   ],
   "source": [
    "popmean = 0 # population mean for null hypothesis\n",
    "statistic, pvalue = stats.ttest_1samp(post_data, popmean)\n",
    "print('statistic', statistic)\n",
    "print('pvalue', pvalue)\n",
    "mean = np.mean(post_data)\n",
    "std = np.std(post_data, ddof=1)\n",
    "t_val = stats.t.ppf(0.025, len(post_data)-1)\n",
    "print('t_val', t_val, 'df', len(post_data)-1)\n",
    "print('95% interval', mean-t_val*std/np.sqrt(len(post_data)),\n",
    "      mean+t_val*std/np.sqrt(len(post_data)),\n",
    "     )"
   ]
  },
  {
   "cell_type": "markdown",
   "id": "836213d0",
   "metadata": {},
   "source": [
    "# paired t-test (paired difference test)"
   ]
  },
  {
   "cell_type": "code",
   "execution_count": 57,
   "id": "8982ecd5",
   "metadata": {},
   "outputs": [
    {
     "name": "stdout",
     "output_type": "stream",
     "text": [
      "statistic 3.139689962595746\n",
      "pvalue 0.013811693734581841\n",
      "t_val -2.306004135033371 df 8\n",
      "95% interval 0.26787906116289684 0.041009827725992015\n"
     ]
    }
   ],
   "source": [
    "diff = post_data - prior_data\n",
    "\n",
    "popmean = 0 # population mean for null hypothesis\n",
    "statistic, pvalue = stats.ttest_1samp(diff, popmean)\n",
    "print('statistic', statistic)\n",
    "print('pvalue', pvalue)\n",
    "mean = np.mean(diff)\n",
    "std = np.std(diff, ddof=1)\n",
    "t_val = stats.t.ppf(0.025, len(diff)-1)\n",
    "print('t_val', t_val, 'df', len(diff)-1)\n",
    "print('95% interval', mean-t_val*std/np.sqrt(len(diff)),\n",
    "      mean+t_val*std/np.sqrt(len(diff)),\n",
    "     )\n"
   ]
  },
  {
   "cell_type": "markdown",
   "id": "0a1204f7",
   "metadata": {},
   "source": [
    "# Fluorescence "
   ]
  },
  {
   "cell_type": "code",
   "execution_count": 58,
   "id": "82cb4d6e",
   "metadata": {},
   "outputs": [
    {
     "name": "stdout",
     "output_type": "stream",
     "text": [
      "wildtype: mean = 2467.0 std 240.11723327217837\n",
      "mutant: mean = 3266.222222222222 std 239.93164535851548\n"
     ]
    }
   ],
   "source": [
    "wildtype = np.array([2689,2494,2719,2465,2709,2324,2295,2041])\n",
    "mutant = np.array([3090,3314,3175,3514,3478,3111,3222,3624,2868])\n",
    "print('wildtype: mean =', np.mean(wildtype), 'std', np.std(wildtype, ddof=1))\n",
    "print('mutant: mean =', np.mean(mutant), 'std', np.std(mutant, ddof=1))"
   ]
  },
  {
   "cell_type": "markdown",
   "id": "861b5d4d",
   "metadata": {},
   "source": [
    "# equal variance test\n",
    "https://docs.scipy.org/doc/scipy/reference/generated/scipy.stats.ttest_ind.html"
   ]
  },
  {
   "cell_type": "code",
   "execution_count": 59,
   "id": "4ec0083a",
   "metadata": {},
   "outputs": [
    {
     "name": "stdout",
     "output_type": "stream",
     "text": [
      "statistic -6.852752324539301\n",
      "pvalue 5.4807871370978115e-06\n"
     ]
    }
   ],
   "source": [
    "statistic, pvalue = stats.ttest_ind(wildtype,mutant,equal_var=True)\n",
    "print('statistic', statistic)\n",
    "print('pvalue', pvalue)"
   ]
  },
  {
   "cell_type": "markdown",
   "id": "c5dc1ba9",
   "metadata": {},
   "source": [
    "# Welch test (variance not assumed to be equal)"
   ]
  },
  {
   "cell_type": "code",
   "execution_count": 60,
   "id": "a161487d",
   "metadata": {},
   "outputs": [
    {
     "name": "stdout",
     "output_type": "stream",
     "text": [
      "statistic -6.8524198719031695\n",
      "pvalue 5.966840376473205e-06\n"
     ]
    }
   ],
   "source": [
    "statistic, pvalue = stats.ttest_ind(wildtype,mutant,equal_var=False)\n",
    "print('statistic', statistic)\n",
    "print('pvalue', pvalue)"
   ]
  },
  {
   "cell_type": "code",
   "execution_count": null,
   "id": "c0d38524",
   "metadata": {},
   "outputs": [],
   "source": []
  }
 ],
 "metadata": {
  "kernelspec": {
   "display_name": "Python 3 (ipykernel)",
   "language": "python",
   "name": "python3"
  },
  "language_info": {
   "codemirror_mode": {
    "name": "ipython",
    "version": 3
   },
   "file_extension": ".py",
   "mimetype": "text/x-python",
   "name": "python",
   "nbconvert_exporter": "python",
   "pygments_lexer": "ipython3",
   "version": "3.11.0"
  }
 },
 "nbformat": 4,
 "nbformat_minor": 5
}
